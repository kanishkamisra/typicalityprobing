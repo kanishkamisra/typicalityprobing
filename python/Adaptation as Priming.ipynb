{
 "cells": [
  {
   "cell_type": "code",
   "execution_count": 1,
   "metadata": {},
   "outputs": [],
   "source": [
    "from minicons.minicons import scorer\n",
    "import torch\n",
    "import torch.optim as optim\n",
    "\n",
    "from transformers import AdamW\n",
    "\n",
    "import matplotlib.pyplot as plt"
   ]
  },
  {
   "cell_type": "code",
   "execution_count": 2,
   "metadata": {},
   "outputs": [
    {
     "data": {
      "text/plain": [
       "<torch._C.Generator at 0x7f4b6c472090>"
      ]
     },
     "execution_count": 2,
     "metadata": {},
     "output_type": "execute_result"
    }
   ],
   "source": [
    "torch.manual_seed(1234)"
   ]
  },
  {
   "cell_type": "code",
   "execution_count": 3,
   "metadata": {},
   "outputs": [
    {
     "name": "stderr",
     "output_type": "stream",
     "text": [
      "Using pad_token, but it is not set yet.\n"
     ]
    }
   ],
   "source": [
    "lm = scorer.IncrementalLMScorer(\"distilgpt2\", \"cpu\")\n",
    "model = lm.model\n",
    "tokenizer = lm.tokenizer"
   ]
  },
  {
   "cell_type": "code",
   "execution_count": 4,
   "metadata": {},
   "outputs": [],
   "source": [
    "sentence = \"A wug is a bird.\"\n",
    "test_sentence = \"A wug can fly.\"\n",
    "control_sentence = \"A wug can dance.\""
   ]
  },
  {
   "cell_type": "code",
   "execution_count": 5,
   "metadata": {},
   "outputs": [],
   "source": [
    "def score(sentence):\n",
    "    encoded = tokenizer.encode_plus(sentence, return_tensors='pt')\n",
    "    tokens = encoded['input_ids']\n",
    "    attention_masks = encoded['attention_mask']\n",
    "    \n",
    "    outputs = model(tokens, attention_mask = attention_masks, labels = tokens)\n",
    "    return outputs.loss"
   ]
  },
  {
   "cell_type": "code",
   "execution_count": 6,
   "metadata": {},
   "outputs": [
    {
     "data": {
      "text/plain": [
       "(tensor(57.0051, grad_fn=<NllLossBackward>),\n",
       " tensor(56.2077, grad_fn=<NllLossBackward>))"
      ]
     },
     "execution_count": 6,
     "metadata": {},
     "output_type": "execute_result"
    }
   ],
   "source": [
    "score(test_sentence), score(control_sentence)"
   ]
  },
  {
   "cell_type": "code",
   "execution_count": 7,
   "metadata": {},
   "outputs": [],
   "source": [
    "optimizer = AdamW(model.parameters(), lr = 5e-4)\n",
    "losses = []\n",
    "test_losses = []\n",
    "control_losses = []\n",
    "model.train()\n",
    "for i in range(20):\n",
    "    optimizer.zero_grad()\n",
    "    loss = score(sentence)\n",
    "    losses.append(loss)\n",
    "    loss.backward()\n",
    "    optimizer.step()\n",
    "    with torch.no_grad():\n",
    "        model.eval()\n",
    "        cl = score(control_sentence)\n",
    "        tl = score(test_sentence)\n",
    "        test_losses.append(tl)\n",
    "        control_losses.append(cl)\n",
    "        model.train()"
   ]
  },
  {
   "cell_type": "code",
   "execution_count": 8,
   "metadata": {},
   "outputs": [
    {
     "data": {
      "image/png": "[encoded data removed]",
      "text/plain": [
       "<Figure size 432x288 with 1 Axes>"
      ]
     },
     "metadata": {
      "needs_background": "light"
     },
     "output_type": "display_data"
    }
   ],
   "source": [
    "for plot in [losses, test_losses, control_losses]:\n",
    "    plt.plot(plot)"
   ]
  },
  {
   "cell_type": "code",
   "execution_count": 10,
   "metadata": {},
   "outputs": [
    {
     "data": {
      "text/plain": [
       "[tensor(10.8456),\n",
       " tensor(10.9841),\n",
       " tensor(6.5580),\n",
       " tensor(5.7774),\n",
       " tensor(5.1383),\n",
       " tensor(4.7364),\n",
       " tensor(4.5687),\n",
       " tensor(4.5863),\n",
       " tensor(4.6567),\n",
       " tensor(4.7381),\n",
       " tensor(4.8224),\n",
       " tensor(4.9062),\n",
       " tensor(4.9948),\n",
       " tensor(5.1252),\n",
       " tensor(5.2767),\n",
       " tensor(5.4319),\n",
       " tensor(5.5836),\n",
       " tensor(5.7262),\n",
       " tensor(5.8563),\n",
       " tensor(5.9714)]"
      ]
     },
     "execution_count": 10,
     "metadata": {},
     "output_type": "execute_result"
    }
   ],
   "source": [
    "test_losses"
   ]
  },
  {
   "cell_type": "code",
   "execution_count": 12,
   "metadata": {},
   "outputs": [
    {
     "data": {
      "text/plain": [
       "tensor(4.7274, grad_fn=<NllLossBackward>)"
      ]
     },
     "execution_count": 12,
     "metadata": {},
     "output_type": "execute_result"
    }
   ],
   "source": [
    "score(\"All monkeys can dax.\")"
   ]
  },
  {
   "cell_type": "code",
   "execution_count": 11,
   "metadata": {},
   "outputs": [
    {
     "data": {
      "text/plain": [
       "[tensor(11.9529),\n",
       " tensor(6.8418),\n",
       " tensor(3.4390),\n",
       " tensor(1.7000),\n",
       " tensor(0.6183),\n",
       " tensor(1.6746),\n",
       " tensor(1.7967),\n",
       " tensor(1.5105),\n",
       " tensor(1.0288),\n",
       " tensor(0.8128),\n",
       " tensor(0.8223),\n",
       " tensor(0.5192),\n",
       " tensor(0.3904),\n",
       " tensor(0.5005),\n",
       " tensor(0.5595),\n",
       " tensor(2.7655),\n",
       " tensor(4.3241),\n",
       " tensor(0.2924),\n",
       " tensor(0.1667),\n",
       " tensor(0.5292)]"
      ]
     },
     "execution_count": 11,
     "metadata": {},
     "output_type": "execute_result"
    }
   ],
   "source": [
    "test_losses"
   ]
  },
  {
   "cell_type": "code",
   "execution_count": 18,
   "metadata": {},
   "outputs": [
    {
     "data": {
      "text/plain": [
       "{'input_ids': tensor([[ 2025, 17180,   257,  1110,    13]]), 'attention_mask': tensor([[1, 1, 1, 1, 1]])}"
      ]
     },
     "execution_count": 18,
     "metadata": {},
     "output_type": "execute_result"
    }
   ],
   "source": [
    "tokenizer.encode_plus(sentence, return_tensors=\"pt\")"
   ]
  },
  {
   "cell_type": "code",
   "execution_count": null,
   "metadata": {},
   "outputs": [],
   "source": []
  }
 ],
 "metadata": {
  "kernelspec": {
   "display_name": "Python 3",
   "language": "python",
   "name": "python3"
  },
  "language_info": {
   "codemirror_mode": {
    "name": "ipython",
    "version": 3
   },
   "file_extension": ".py",
   "mimetype": "text/x-python",
   "name": "python",
   "nbconvert_exporter": "python",
   "pygments_lexer": "ipython3",
   "version": "3.8.3"
  }
 },
 "nbformat": 4,
 "nbformat_minor": 4
}
