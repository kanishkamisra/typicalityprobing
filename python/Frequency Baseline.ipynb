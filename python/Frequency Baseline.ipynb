{
 "cells": [
  {
   "cell_type": "code",
   "execution_count": 2,
   "metadata": {},
   "outputs": [],
   "source": [
    "from wordfreq import word_frequency\n",
    "\n",
    "import csv"
   ]
  },
  {
   "cell_type": "code",
   "execution_count": 15,
   "metadata": {},
   "outputs": [],
   "source": [
    "with open(\"../data/frequencies.csv\", \"w\") as f:\n",
    "    writer = csv.writer(f)\n",
    "    writer.writerow(['item', 'category', 'frequency'])\n",
    "    with open(\"../data/rosch1975/rosch1975_ratings.csv\", \"r\") as f:\n",
    "        next(f)\n",
    "        reader = csv.reader(f)\n",
    "        for line in reader:\n",
    "            item, category, rating = line\n",
    "            if item == 'skindiving':\n",
    "                item = 'skin diving'\n",
    "            elif item == 'underpant':\n",
    "                item = 'under pant'\n",
    "            elif item == 'overshoe':\n",
    "                item = 'over shoe'\n",
    "            else:\n",
    "                item = item\n",
    "            freq = word_frequency(item, 'en')\n",
    "            writer.writerow([item, category, freq])"
   ]
  },
  {
   "cell_type": "code",
   "execution_count": 14,
   "metadata": {},
   "outputs": [
    {
     "data": {
      "text/plain": [
       "1.71e-05"
      ]
     },
     "execution_count": 14,
     "metadata": {},
     "output_type": "execute_result"
    }
   ],
   "source": [
    "word_frequency('over shoe', 'en', wordlist='large')"
   ]
  },
  {
   "cell_type": "code",
   "execution_count": null,
   "metadata": {},
   "outputs": [],
   "source": []
  }
 ],
 "metadata": {
  "kernelspec": {
   "display_name": "Python 3",
   "language": "python",
   "name": "python3"
  },
  "language_info": {
   "codemirror_mode": {
    "name": "ipython",
    "version": 3
   },
   "file_extension": ".py",
   "mimetype": "text/x-python",
   "name": "python",
   "nbconvert_exporter": "python",
   "pygments_lexer": "ipython3",
   "version": "3.8.3"
  }
 },
 "nbformat": 4,
 "nbformat_minor": 4
}
