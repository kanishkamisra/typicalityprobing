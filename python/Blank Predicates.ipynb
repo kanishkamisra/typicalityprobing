{
 "cells": [
  {
   "cell_type": "code",
   "execution_count": 1,
   "metadata": {},
   "outputs": [],
   "source": [
    "import inflect\n",
    "from pattern.en import singularize, pluralize\n",
    "import glob\n",
    "import re\n",
    "from collections import defaultdict\n",
    "import csv\n",
    "import random"
   ]
  },
  {
   "cell_type": "code",
   "execution_count": 2,
   "metadata": {},
   "outputs": [],
   "source": [
    "inflector = inflect.engine()"
   ]
  },
  {
   "cell_type": "code",
   "execution_count": 3,
   "metadata": {},
   "outputs": [],
   "source": [
    "def is_plural(plural_form):\n",
    "    singular_form = singularize(plural_form)\n",
    "    plural = True if plural_form != singular_form else False\n",
    "    return plural"
   ]
  },
  {
   "cell_type": "markdown",
   "metadata": {},
   "source": [
    "## predicates\n",
    "\n",
    "- **sports, activity, :** involve/s [VBG], require/s [VBG], improve/s.\n",
    "- **fruits, vegetables, clothes, toys:** can be [VBN], cause/s [VBG].\n",
    "- **vehicles, weapons, plants, trees, shapes:** can [VB], can be [VBN], use [NNS] \n",
    "- **birds, animals, fish, mammal:** can [VB], can be [VBN], use [NNS], love [NN/NNS]\n",
    "\n",
    "## Verbs\n",
    "\n",
    "dax, blick, wif, gyre, gimble\n",
    "\n",
    "```\n",
    "verbs = [{\"dax\": {\"VB\": \"dax\", \"VBG\": \"daxing\", \"VBD\": \"daxed\"}, \"blick}]\n",
    "\n",
    "or\n",
    "\n",
    "vb\n",
    "```\n",
    "\n",
    "## Nouns\n",
    "\n",
    "wug, zup, blicket, fep, "
   ]
  },
  {
   "cell_type": "code",
   "execution_count": 4,
   "metadata": {},
   "outputs": [],
   "source": [
    "categories = [\"furniture\", \"fruit\", \"vehicle\", \"weapon\", \"vegetable\", \n",
    "              \"tool\", \"bird\", \"sport\", \"toy\", \"clothing\"]\n",
    "\n",
    "# each category's predicate entries are of the form: (verb, arg) \n",
    "# where arg is some morpho-syntactic form of either verb, noun or adjective.\n",
    "predicates = {\n",
    "    \"sports\": [('involves', '[VBG]'), ('requires', '[VBG]'), ('includes', '[VBG]'), ('is', '[JJ]')],\n",
    "    \"activities\": [('involves', '[VBG]'), ('requires', '[VBG]'), ('includes', '[VBG]'), ('is', '[JJ]')],\n",
    "    \"birds\": [('can', '[VB]'), ('can be', '[VBD]'), ('are', '[JJ]'), ('use a', '[NN]'), ('love', '[NNS]'), ('have', '[NNS]')],\n",
    "    \"animals\": [('can', '[VB]'), ('can be', '[VBD]'), ('are', '[JJ]'), ('use a', '[NN]'), ('love', '[NNS]'), ('have', '[NNS]')],\n",
    "    \"mammals\": [('can', '[VB]'), ('can be', '[VBD]'), ('are', '[JJ]'), ('use a', '[NN]'), ('love', '[NNS]'), ('have', '[NNS]')],\n",
    "    \"fish\": [('can', '[VB]'), ('can be', '[VBD]'), ('are', '[JJ]'), ('use a', '[NN]'), ('love', '[NNS]'), ('have', '[NNS]')],\n",
    "    \"vehicles\": [('can', '[VB]'), ('can be', '[VBD]'), ('are', '[JJ]'), ('use a', '[NN]'), ('have', '[NNS]')],\n",
    "    \"weapons\": [('can', '[VB]'), ('can be', '[VBD]'), ('are', '[JJ]'), ('use a', '[NN]'), ('have', '[NNS]')],\n",
    "    \"tools\": [('can', '[VB]'), ('can be', '[VBD]'), ('are', '[JJ]'), ('use a', '[NN]'), ('have', '[NNS]')],\n",
    "    \"furniture\": [('can', '[VB]'), ('can be', '[VBD]'), ('are', '[JJ]'), ('use a', '[NN]'), ('have', '[NNS]')],\n",
    "    \"plants\": [('can', '[VB]'), ('can be', '[VBD]'), ('are', '[JJ]'), ('use a', '[NN]'), ('have', '[NNS]')],\n",
    "    \"trees\": [('can', '[VB]'), ('can be', '[VBD]'), ('are', '[JJ]'), ('use a', '[NN]'), ('have', '[NNS]')],\n",
    "    \"shapes\": [('can be', '[VBD]'), ('are', '[JJ]'), ('have', '[NNS]')],\n",
    "    \"fruits\": [('can be', '[VBD]'), ('are', '[JJ]'), ('have', '[NNS]')],\n",
    "    \"vegetables\": [('can be', '[VBD]'), ('are', '[JJ]'), ('have', '[NNS]')],\n",
    "#     \"toys\": [('can be', '[VBD]'), ('are', '[JJ]')],\n",
    "    \"clothes\": [('can be', '[VBD]'), ('are', '[JJ]'), ('have', '[NNS]')],\n",
    "    \n",
    "}"
   ]
  },
  {
   "cell_type": "code",
   "execution_count": 5,
   "metadata": {},
   "outputs": [],
   "source": [
    "args = {\n",
    "    '[VB]': [\"dax\", \"wif\", \"blick\", \"gyre\", \"gimble\"],\n",
    "    '[VBD]': [\"daxed\", \"wiffed\", \"blicked\", \"gyred\", \"gimbled\"],\n",
    "    '[VBG]': [\"daxing\", \"wiffing\", \"blicking\", \"gyring\", \"gimbling\"],\n",
    "    '[JJ]': [\"beamish\", \"slithy\", \"mimsy\", \"vorpal\", \"frabjous\"],\n",
    "    '[NN]': [\"wug\", \"fep\", \"blicket\", \"jabberwock\", \"tove\"],\n",
    "    '[NNS]': [\"wugs\", \"feps\", \"blickets\", \"jabberwocks\", \"toves\"]\n",
    "}"
   ]
  },
  {
   "cell_type": "code",
   "execution_count": 6,
   "metadata": {},
   "outputs": [],
   "source": [
    "category_texts = [\"birds\", \"weapons\", \"vegetables\", \"tools\" , \"furniture\", \"vehicles\", \"clothes\", \"fruits\", \"sports\"]\n",
    "\n",
    "control = {\n",
    "    'birds': 'vegetables',\n",
    "    'weapons': 'vehicles',\n",
    "    'furniture': 'fruits',\n",
    "    'clothes': 'tools',\n",
    "    'vehicles': 'birds',\n",
    "    'fruits': 'furniture',\n",
    "    'vegetables': 'weapons',\n",
    "    'tools': 'clothes',\n",
    "    'sports': 'birds'\n",
    "}\n",
    "\n",
    "singulars = [\"broccoli\", \"parsley\", \"kale\", \"rutabaga\", \"garlic\", \"rice\"]\n",
    "stimuli =  []\n",
    "items = defaultdict(list)\n",
    "for file in glob.glob(\"../data/rosch1975/*.txt\"):\n",
    "    category = re.search(r'(?<=5\\/)(.*)(?=\\.txt)', file).group(1)\n",
    "    if category == \"toy\":\n",
    "        continue\n",
    "    else:\n",
    "        plural_category = inflector.plural_noun(category)\n",
    "        if category == \"furniture\":\n",
    "            plural_category = \"furniture\"\n",
    "        if category == \"clothing\":\n",
    "            plural_category = \"clothes\"\n",
    "        with open(file, \"r\") as f:\n",
    "            for rank, word in enumerate(f):\n",
    "                word = word.strip()\n",
    "                if category not in [\"sport\", \"activity\"]:\n",
    "                    word_text = inflector.plural_noun(word)\n",
    "                else:\n",
    "                    word_text = word\n",
    "                if word in singulars:\n",
    "                    word_text = word\n",
    "                for i, (predicate, argument) in enumerate(predicates[plural_category]):\n",
    "                    if category in [\"sport\", \"activity\"]:\n",
    "                        predicate_text = predicate\n",
    "                        conclusion = f\"All {plural_category} {inflector.plural_verb(predicate)} {argument}.\"\n",
    "                        control_conclusion = f\"All {control[plural_category]} {inflector.plural_verb(predicate)} {argument}.\"\n",
    "                    else:\n",
    "                        if word_text in singulars:\n",
    "                            if predicate == \"are\":\n",
    "                                predicate_text = \"is\"\n",
    "                            elif predicate == \"have\":\n",
    "                                predicate_text = \"has\"\n",
    "                            elif predicate == \"use a\":\n",
    "                                predicate_text = \"uses a\"\n",
    "                            else:\n",
    "                                predicate_text = predicate\n",
    "                        else:\n",
    "                            predicate_text = predicate\n",
    "                        conclusion = f\"All {plural_category} {predicate} {argument}.\"\n",
    "                        control_conclusion = f\"All {control[plural_category]} {predicate} {argument}.\"\n",
    "                    premise = f\"{word_text.capitalize()} {predicate_text} {argument}.\"\n",
    "                    \n",
    "                    stimuli.extend([(premise.replace(arg, form), conclusion.replace(arg, form), control_conclusion.replace(arg, form), word, category, predicate, word_text.capitalize(), plural_category,  i+1, j+1) for arg in args.keys() for j, form in enumerate(args[arg]) if arg == argument])"
   ]
  },
  {
   "cell_type": "code",
   "execution_count": 8,
   "metadata": {},
   "outputs": [],
   "source": [
    "conclusion_only = list(zip(*stimuli))\n",
    "conclusion_only = [conclusion_only[i] for i in range(len(conclusion_only)) if i not in [0, 3, 6]]\n",
    "# conclusion_only = list(zip(*set(conclusion_only)))\n",
    "conclusion_only = list(set(list(zip(*conclusion_only))))"
   ]
  },
  {
   "cell_type": "code",
   "execution_count": 9,
   "metadata": {},
   "outputs": [
    {
     "data": {
      "text/plain": [
       "195"
      ]
     },
     "execution_count": 9,
     "metadata": {},
     "output_type": "execute_result"
    }
   ],
   "source": [
    "len(conclusion_only)"
   ]
  },
  {
   "cell_type": "code",
   "execution_count": 11,
   "metadata": {},
   "outputs": [],
   "source": [
    "# stimuli\n",
    "with open(\"../data/premiseconclusion.csv\", \"w\") as f:\n",
    "    writer = csv.writer(f)\n",
    "    writer.writerow([\"premise\", \"conclusion\", \"control\", \"item\", \"category\", \"blankpredicate\", \"item_word\", \"category_word\", \"predicate_id\", \"argument_id\"])\n",
    "    writer.writerows(stimuli)"
   ]
  },
  {
   "cell_type": "code",
   "execution_count": 94,
   "metadata": {},
   "outputs": [],
   "source": [
    "# conclusion_only\n",
    "with open(\"../data/conclusiononly.csv\", \"w\") as f:\n",
    "    writer = csv.writer(f)\n",
    "    writer.writerow([\"conclusion\", \"category\", \"blankpredicate\", \"category_word\", \"predicate_id\", \"argument_id\"])\n",
    "    writer.writerows(conclusion_only)"
   ]
  },
  {
   "cell_type": "code",
   "execution_count": 38,
   "metadata": {},
   "outputs": [],
   "source": [
    "sentence = \"Brussels sprouts can dax.\".replace(\".\", \" .\")"
   ]
  },
  {
   "cell_type": "code",
   "execution_count": 39,
   "metadata": {},
   "outputs": [
    {
     "data": {
      "text/plain": [
       "['Brussels', 'sprouts', 'can', 'dax', '.']"
      ]
     },
     "execution_count": 39,
     "metadata": {},
     "output_type": "execute_result"
    }
   ],
   "source": [
    "sentence.split()"
   ]
  },
  {
   "cell_type": "code",
   "execution_count": 18,
   "metadata": {},
   "outputs": [],
   "source": [
    "random.seed(1234)"
   ]
  },
  {
   "cell_type": "code",
   "execution_count": 15,
   "metadata": {},
   "outputs": [],
   "source": [
    "def shuffle_sentence(sentence, word):\n",
    "    sentence = sentence.replace(\".\", \"\")\n",
    "    if len(word.split()) > 1:\n",
    "        sentence = sentence.replace(word, \"@\".join(word.split())).split()\n",
    "    else:\n",
    "        sentence = sentence.split()\n",
    "    random.shuffle(sentence)\n",
    "        \n",
    "    return \" \".join(sentence).replace(\"@\", \" \").capitalize() + \".\""
   ]
  },
  {
   "cell_type": "code",
   "execution_count": 16,
   "metadata": {},
   "outputs": [
    {
     "name": "stdout",
     "output_type": "stream",
     "text": [
      "Dax brussels sprouts can.\n",
      "Can dax brussels sprouts.\n",
      "Can brussels sprouts dax.\n",
      "Can brussels sprouts dax.\n",
      "Dax can brussels sprouts.\n",
      "Can dax brussels sprouts.\n",
      "Can dax brussels sprouts.\n",
      "Brussels sprouts dax can.\n",
      "Brussels sprouts can dax.\n",
      "Can dax brussels sprouts.\n"
     ]
    }
   ],
   "source": [
    "for i in range(10):\n",
    "    print(shuffle_sentence(\"Brussels sprouts can dax.\", \"Brussels sprouts\"))"
   ]
  },
  {
   "cell_type": "code",
   "execution_count": 24,
   "metadata": {},
   "outputs": [],
   "source": [
    "separated = list(zip(*stimuli))\n",
    "sentences = separated[0]\n",
    "words = separated[5]\n",
    "\n",
    "shuffled_premise = []\n",
    "values = []\n",
    "\n",
    "for s, w in zip(sentences, words):\n",
    "    shuffled = [shuffle_sentence(s, w) for i in range(2)]\n",
    "    if shuffled[0] != s:\n",
    "        shuffled_premise.append(shuffled[0])\n",
    "    else:\n",
    "        shuffled_premise.append(shuffled[1])\n",
    "\n"
   ]
  },
  {
   "cell_type": "code",
   "execution_count": 23,
   "metadata": {},
   "outputs": [
    {
     "data": {
      "text/plain": [
       "6"
      ]
     },
     "execution_count": 23,
     "metadata": {},
     "output_type": "execute_result"
    }
   ],
   "source": [
    "random.randint(0, 10)"
   ]
  },
  {
   "cell_type": "code",
   "execution_count": null,
   "metadata": {},
   "outputs": [],
   "source": []
  }
 ],
 "metadata": {
  "kernelspec": {
   "display_name": "Python 3",
   "language": "python",
   "name": "python3"
  },
  "language_info": {
   "codemirror_mode": {
    "name": "ipython",
    "version": 3
   },
   "file_extension": ".py",
   "mimetype": "text/x-python",
   "name": "python",
   "nbconvert_exporter": "python",
   "pygments_lexer": "ipython3",
   "version": "3.8.3"
  }
 },
 "nbformat": 4,
 "nbformat_minor": 4
}
